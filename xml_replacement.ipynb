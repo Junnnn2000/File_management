{
 "cells": [
  {
   "cell_type": "code",
   "execution_count": 4,
   "metadata": {},
   "outputs": [],
   "source": [
    "from tools import file_ope\n",
    "from tools import xml2xml\n",
    "import os"
   ]
  },
  {
   "cell_type": "code",
   "execution_count": 5,
   "metadata": {},
   "outputs": [],
   "source": [
    "replacements = {\n",
    "    'horse': 'obj horse',\n",
    "    'cattle': 'obj cattle',\n",
    "    'wolf': 'obj wolf',\n",
    "    'beaver': 'obj beaver',\n",
    "    'male beaver': 'obj male beaver',\n",
    "    'female beaver': 'obj female beaver',\n",
    "    'bee': 'obj bee',\n",
    "    'lion': 'obj lion',\n",
    "    'elephant': 'obj elephant',\n",
    "    'red ant': 'obj red ant',\n",
    "    'ape': 'obj ape',\n",
    "    'scorpion': 'obj scorpion',\n",
    "    # 'fox': 'obj fox', # one person with name \"fox\"\n",
    "    'centaur': 'obj centaur',\n",
    "    'faun': 'obj faun',\n",
    "    # 'sward': 'obj sword', \n",
    "    # 'gtyphon': 'obj gryphon', \n",
    "    'rat': 'obj rat',\n",
    "    'unicorn': 'obj unicorn',\n",
    "    'phoenix': 'obj phoenix',\n",
    "    'monkey': 'obj monkey',\n",
    "    'dragonfly': 'obj dragonfly',\n",
    "    'ghost': 'obj ghost',\n",
    "    'slug': 'obj slug',\n",
    "    'polarilla': 'obj polarilla',\n",
    "    'orc': 'obj orc',\n",
    "    'beast': 'obj beast',\n",
    "    'mount': 'obj mount',\n",
    "    'fell beast': 'obj fell beast',\n",
    "    'insect': 'obj insect',\n",
    "    'catfish': 'obj catfish',\n",
    "    'mermaid': 'obj mermaid',\n",
    "    'dog': 'obj dog',\n",
    "    'livestock': 'obj livestock',\n",
    "    'hare': 'obj hare',\n",
    "    'pony': 'obj pony',\n",
    "    'mouse': 'obj mouse',\n",
    "    'alien': 'obj alien',\n",
    "    'creature': 'obj creature',\n",
    "    'hog': 'obj hog',\n",
    "    'calf': 'obj calf',\n",
    "    'pet sow': 'obj pet sow'\n",
    "    # 'obj pet sow': 'pet sow'\n",
    "}"
   ]
  },
  {
   "cell_type": "code",
   "execution_count": 6,
   "metadata": {},
   "outputs": [],
   "source": [
    "# path: where the labels are put\n",
    "path = '/Users/junnnn/Desktop/xie/2/train/labels'\n",
    "file_path = file_ope.get_file_paths(path)\n",
    "\n",
    "file_final = []\n",
    "for file_path in file_path:\n",
    "    # get names\n",
    "    file_name = os.path.basename(file_path) \n",
    "    # if we only want to make modification for one movie, add tt*******\n",
    "    if file_name.startswith(\"tt0100157\"):\n",
    "        file_final.append(file_path)\n",
    "\n",
    "# print(file_final)\n",
    "\n",
    "for file in file_final:\n",
    "    if file.endswith(\".xml\"):\n",
    "        for original, new in replacements.items():\n",
    "            xml2xml.read_and_modify_xml(file, original, new)"
   ]
  }
 ],
 "metadata": {
  "kernelspec": {
   "display_name": "base",
   "language": "python",
   "name": "python3"
  },
  "language_info": {
   "codemirror_mode": {
    "name": "ipython",
    "version": 3
   },
   "file_extension": ".py",
   "mimetype": "text/x-python",
   "name": "python",
   "nbconvert_exporter": "python",
   "pygments_lexer": "ipython3",
   "version": "3.11.4"
  }
 },
 "nbformat": 4,
 "nbformat_minor": 2
}
